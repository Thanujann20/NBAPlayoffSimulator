{
 "cells": [
  {
   "cell_type": "code",
   "execution_count": 16,
   "id": "c93d8147-267b-492a-8f1d-197b6d5de025",
   "metadata": {},
   "outputs": [],
   "source": [
    "from nba_api.stats.endpoints import leaguedashteamstats\n",
    "import pandas as pd\n",
    "\n",
    "opp_stats = leaguedashteamstats.LeagueDashTeamStats(\n",
    "    measure_type_detailed_defense=\"Opponent\", \n",
    "    season=\"2024-25\", \n",
    "    per_mode_detailed=\"PerGame\"\n",
    ")\n",
    "df = opp_stats.get_data_frames()[0]\n",
    "df_opponent_stats = df[['TEAM_NAME', 'OPP_PTS', 'OPP_FG_PCT','OPP_FG3_PCT',\n",
    "       'OPP_FT_PCT', 'OPP_REB','OPP_AST', 'OPP_TOV']]\n",
    "\n",
    "df_opponent_stats = df_opponent_stats.rename(columns={\n",
    "    'TEAM_NAME': 'Team',\n",
    "    'OPP_PTS': 'Opponent Points',\n",
    "    'OPP_FG_PCT': 'Opponent FG%',\n",
    "    'OPP_3P_PCT': 'Opponent 3P%',\n",
    "    'OPP_FT_PCT' : 'Opponent FT%',\n",
    "    'OPP_REB': 'Opponent Rebounds',\n",
    "    'OPP_AST': 'Opponent Assists',\n",
    "    'OPP_TOV': 'Opponent Turnovers'\n",
    "})\n",
    "\n",
    "df_opponent_stats['Team'] = df_opponent_stats['Team'].replace('LA Clippers', 'Los Angeles Clippers')\n",
    "\n",
    "data_folder_path = '/Users/thanujann/Documents/code/NBApredictor/Data/'\n",
    "\n",
    "df_opponent_stats.to_csv(data_folder_path + 'opp_stats.csv', index=False)\n"
   ]
  },
  {
   "cell_type": "code",
   "execution_count": null,
   "id": "8581f9b1-eb57-4418-9178-ea34ed7b3916",
   "metadata": {},
   "outputs": [],
   "source": []
  }
 ],
 "metadata": {
  "kernelspec": {
   "display_name": "Python [conda env:base] *",
   "language": "python",
   "name": "conda-base-py"
  },
  "language_info": {
   "codemirror_mode": {
    "name": "ipython",
    "version": 3
   },
   "file_extension": ".py",
   "mimetype": "text/x-python",
   "name": "python",
   "nbconvert_exporter": "python",
   "pygments_lexer": "ipython3",
   "version": "3.12.7"
  }
 },
 "nbformat": 4,
 "nbformat_minor": 5
}
