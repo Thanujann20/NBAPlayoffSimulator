{
 "cells": [
  {
   "cell_type": "code",
   "execution_count": 2,
   "id": "2020af63-d1b6-4346-854c-7aa9f50454fd",
   "metadata": {
    "scrolled": true
   },
   "outputs": [],
   "source": [
    "import pandas as pd\n",
    "import regex as re\n",
    "\n",
    "data_folder_path = '/Users/thanujann/Documents/code/NBApredictor/Data/' \n",
    "\n",
    "east_st = pd.read_csv(data_folder_path + \"standings_e.csv\")\n",
    "west_st = pd.read_csv(data_folder_path + \"standings_w.csv\")\n",
    "east_so = pd.read_csv(data_folder_path + \"sos_e.csv\")\n",
    "west_so = pd.read_csv(data_folder_path + \"sos_w.csv\")\n",
    "\n",
    "east_st[\"Team\"] = east_st[\"Team\"].apply(lambda x: re.sub(r\"\\s*\\(\\d+\\)\", \"\", x).strip())\n",
    "east_merged = east_st.merge(east_so, on=\"Team\", how='outer')\n",
    "west_st[\"Team\"] = west_st[\"Team\"].apply(lambda x: re.sub(r\"\\s*\\(\\d+\\)\", \"\", x).strip())\n",
    "west_merged = west_st.merge(west_so, on=\"Team\", how='outer')\n",
    "\n",
    "numeric_columns_east = east_merged.select_dtypes(include=['float64', 'int64']).columns\n",
    "east_merged[numeric_columns_east] = east_merged[numeric_columns_east].fillna(east_merged[numeric_columns_east].mean())\n",
    "numeric_columns_west = west_merged.select_dtypes(include=['float64', 'int64']).columns\n",
    "west_merged[numeric_columns_west] = west_merged[numeric_columns_west].fillna(west_merged[numeric_columns_west].mean())\n",
    "\n",
    "east_merged[\"Projected wins\"] = round(((82 - (east_merged[\"W\"] + east_merged[\"L\"])) * east_merged['W/L%'] - east_merged['SOS'] * 0.5) + east_merged['W'])\n",
    "west_merged[\"Projected wins\"] = round(((82 - (west_merged[\"W\"] + west_merged[\"L\"])) * west_merged['W/L%'] - west_merged['SOS'] * 0.5) + west_merged['W'])\n",
    "\n",
    "sorted_east = east_merged.sort_values(by='Projected wins', ascending=False)\n",
    "sorted_west = west_merged.sort_values(by='Projected wins', ascending=False)\n",
    "\n",
    "sorted_east['Seed'] = range(1, 16)\n",
    "sorted_west['Seed'] = range(1, 16)\n",
    "\n",
    "sorted_east.to_csv(data_folder_path + \"updated_standings_e.csv\", index=False)\n",
    "sorted_west.to_csv(data_folder_path + \"updated_standings_w.csv\", index=False)\n"
   ]
  },
  {
   "cell_type": "code",
   "execution_count": null,
   "id": "f035af02-2f44-46e1-86e7-3957646bcf76",
   "metadata": {},
   "outputs": [],
   "source": []
  },
  {
   "cell_type": "code",
   "execution_count": null,
   "id": "9a7e97f0-75f1-455f-927d-a232f2553ebd",
   "metadata": {},
   "outputs": [],
   "source": []
  },
  {
   "cell_type": "code",
   "execution_count": null,
   "id": "b5a03f84-7544-463b-894a-9b0ad48dbd83",
   "metadata": {},
   "outputs": [],
   "source": []
  },
  {
   "cell_type": "code",
   "execution_count": null,
   "id": "b4bc7171-a09b-41e7-a15a-369d359a8d0a",
   "metadata": {},
   "outputs": [],
   "source": []
  },
  {
   "cell_type": "code",
   "execution_count": null,
   "id": "d7c7b27c-2ef5-426f-baf8-12688a2ccd45",
   "metadata": {},
   "outputs": [],
   "source": []
  }
 ],
 "metadata": {
  "kernelspec": {
   "display_name": "Python [conda env:base] *",
   "language": "python",
   "name": "conda-base-py"
  },
  "language_info": {
   "codemirror_mode": {
    "name": "ipython",
    "version": 3
   },
   "file_extension": ".py",
   "mimetype": "text/x-python",
   "name": "python",
   "nbconvert_exporter": "python",
   "pygments_lexer": "ipython3",
   "version": "3.12.7"
  }
 },
 "nbformat": 4,
 "nbformat_minor": 5
}
