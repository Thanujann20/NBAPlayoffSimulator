{
 "cells": [
  {
   "cell_type": "code",
   "execution_count": 8,
   "id": "834239c4-dd20-49ad-9a66-c9fb1cefd089",
   "metadata": {},
   "outputs": [],
   "source": [
    "import requests\n",
    "from bs4 import BeautifulSoup\n",
    "import pandas as pd\n",
    "from io import StringIO\n",
    "\n",
    "url = 'https://www.basketball-reference.com/friv/playoff_prob.html'\n",
    "response = requests.get(url)\n",
    "\n",
    "soup = BeautifulSoup(response.text, 'html.parser')\n",
    "\n",
    "east_sos = soup.find(id='all_projected_standings_e')\n",
    "west_sos = soup.find(id='all_projected_standings_w')\n",
    "east_sos_str = str(east_sos)\n",
    "west_sos_str = str(west_sos)\n",
    "\n",
    "east_s = StringIO(east_sos_str)\n",
    "east_df = pd.read_html(east_s)[0]\n",
    "west_s = StringIO(west_sos_str)\n",
    "west_df = pd.read_html(west_s)[0]\n",
    "east_cleaned = east_df[[('Unnamed: 1_level_0', 'Eastern Conference'), ('Unnamed: 6_level_0', 'rSOS')]]\n",
    "west_cleaned = west_df[[('Unnamed: 1_level_0', 'Western Conference'), ('Unnamed: 6_level_0', 'rSOS')]]\n",
    "\n",
    "east_cleaned.columns = ['Team', 'SOS']\n",
    "east_cleaned = east_cleaned.dropna()\n",
    "west_cleaned.columns = ['Team', 'SOS']\n",
    "west_cleaned = west_cleaned.dropna()\n",
    "\n",
    "data_folder_path = '/Users/thanujann/Documents/code/NBApredictor/Data/' \n",
    "\n",
    "east_cleaned.to_csv(data_folder_path + 'sos_e.csv', index=False)\n",
    "west_cleaned.to_csv(data_folder_path + 'sos_w.csv', index=False)\n",
    "\n",
    "\n"
   ]
  },
  {
   "cell_type": "code",
   "execution_count": null,
   "id": "17135ef5-af9c-4ff2-999a-3202bc41c35f",
   "metadata": {},
   "outputs": [],
   "source": []
  },
  {
   "cell_type": "code",
   "execution_count": null,
   "id": "6dfec77d-085b-4092-9c7e-acabcd5dfced",
   "metadata": {},
   "outputs": [],
   "source": []
  }
 ],
 "metadata": {
  "kernelspec": {
   "display_name": "Python [conda env:base] *",
   "language": "python",
   "name": "conda-base-py"
  },
  "language_info": {
   "codemirror_mode": {
    "name": "ipython",
    "version": 3
   },
   "file_extension": ".py",
   "mimetype": "text/x-python",
   "name": "python",
   "nbconvert_exporter": "python",
   "pygments_lexer": "ipython3",
   "version": "3.12.7"
  }
 },
 "nbformat": 4,
 "nbformat_minor": 5
}
