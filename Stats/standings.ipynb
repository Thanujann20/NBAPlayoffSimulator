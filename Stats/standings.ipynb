{
 "cells": [
  {
   "cell_type": "code",
   "execution_count": 2,
   "id": "343bd87f-60df-4917-8565-1d247ab5a5a7",
   "metadata": {},
   "outputs": [],
   "source": [
    "import requests\n",
    "from bs4 import BeautifulSoup\n",
    "import pandas as pd\n",
    "from io import StringIO\n",
    "\n",
    "url = 'https://www.basketball-reference.com/leagues/NBA_2025_standings.html'\n",
    "response = requests.get(url)\n",
    "\n",
    "soup = BeautifulSoup(response.text, 'html.parser')\n",
    "soup.find('div', class_='section_heading assoc_confs_standings_E').decompose()\n",
    "soup.find('div', class_='footer no_hide_long').decompose()\n",
    "\n",
    "east_standings = soup.find(id='all_confs_standings_E')\n",
    "west_standings = soup.find(id='all_confs_standings_W')\n",
    "east_standings_str = str(east_standings)\n",
    "west_standings_str = str(west_standings)\n",
    "\n",
    "east = StringIO(east_standings_str)\n",
    "east_df = pd.read_html(east)[0]\n",
    "west = StringIO(west_standings_str)\n",
    "west_df = pd.read_html(west)[0]\n",
    "\n",
    "cleaned_e = east_df.loc[:, :'PA/G']\n",
    "cleaned_w = west_df.loc[:, :'PA/G']\n",
    "cleaned_e.rename(columns={'Eastern Conference': 'Team'}, inplace=True)\n",
    "cleaned_w.rename(columns={'Western Conference': 'Team'}, inplace=True)\n",
    "\n",
    "cleaned_e.to_csv('standings_e.csv', index=False)\n",
    "cleaned_w.to_csv('standings_w.csv', index=False)\n"
   ]
  },
  {
   "cell_type": "code",
   "execution_count": null,
   "id": "9b1cd707-0555-46a1-93e7-d5b413372ccf",
   "metadata": {},
   "outputs": [],
   "source": []
  },
  {
   "cell_type": "code",
   "execution_count": null,
   "id": "ebdb7c0d-557a-4afd-9b35-6053df9646d3",
   "metadata": {},
   "outputs": [],
   "source": []
  }
 ],
 "metadata": {
  "kernelspec": {
   "display_name": "Python [conda env:base] *",
   "language": "python",
   "name": "conda-base-py"
  },
  "language_info": {
   "codemirror_mode": {
    "name": "ipython",
    "version": 3
   },
   "file_extension": ".py",
   "mimetype": "text/x-python",
   "name": "python",
   "nbconvert_exporter": "python",
   "pygments_lexer": "ipython3",
   "version": "3.12.7"
  }
 },
 "nbformat": 4,
 "nbformat_minor": 5
}
