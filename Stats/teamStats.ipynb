{
 "cells": [
  {
   "cell_type": "code",
   "execution_count": 14,
   "id": "6da8f2ff-389d-45bd-b5b0-548d3303aed5",
   "metadata": {},
   "outputs": [],
   "source": [
    "from nba_api.stats.endpoints import leaguedashteamstats\n",
    "import pandas as pd\n",
    "\n",
    "team_stats = leaguedashteamstats.LeagueDashTeamStats(\n",
    "    season=\"2024-25\",      \n",
    "    per_mode_detailed=\"PerGame\",  \n",
    ")\n",
    "\n",
    "df = team_stats.get_data_frames()[0]\n",
    "df_team_stats = df[['TEAM_NAME', 'PTS', 'FG_PCT','FG3_PCT',\n",
    "       'FT_PCT', 'REB', 'AST', 'TOV', 'PLUS_MINUS' ]]\n",
    "\n",
    "df_team_stats = df_team_stats.rename(columns={\n",
    "    'TEAM_NAME': 'Team',\n",
    "    'PTS': 'Points',\n",
    "    'FG_PCT': 'FG%',\n",
    "    '3P_PCT': '3P%',\n",
    "    'FT_PCT' : 'FT%',\n",
    "    'REB': 'Rebounds',\n",
    "    'AST': 'Assists',\n",
    "    'TOV': 'Turnovers',\n",
    "    'PLUS_MINUS': '+/-'\n",
    "})\n",
    "\n",
    "df_team_stats['Team'] = df_team_stats['Team'].replace('LA Clippers', 'Los Angeles Clippers')\n",
    "\n",
    "data_folder_path = '/Users/thanujann/Documents/code/NBApredictor/Data/'\n",
    "df_team_stats.to_csv(data_folder_path + 'team_stats.csv', index=False)\n",
    "\n"
   ]
  },
  {
   "cell_type": "code",
   "execution_count": null,
   "id": "e08b587f-cb5a-40c4-8a7e-a6d47fb418d7",
   "metadata": {},
   "outputs": [],
   "source": []
  },
  {
   "cell_type": "code",
   "execution_count": null,
   "id": "c27ee1d0-a712-4ed1-8f94-f4e13e34bf85",
   "metadata": {},
   "outputs": [],
   "source": []
  }
 ],
 "metadata": {
  "kernelspec": {
   "display_name": "Python [conda env:base] *",
   "language": "python",
   "name": "conda-base-py"
  },
  "language_info": {
   "codemirror_mode": {
    "name": "ipython",
    "version": 3
   },
   "file_extension": ".py",
   "mimetype": "text/x-python",
   "name": "python",
   "nbconvert_exporter": "python",
   "pygments_lexer": "ipython3",
   "version": "3.12.7"
  }
 },
 "nbformat": 4,
 "nbformat_minor": 5
}
